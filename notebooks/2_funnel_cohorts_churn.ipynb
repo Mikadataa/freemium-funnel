{
  "cells": [
    {
      "cell_type": "markdown",
      "metadata": {},
      "source": [
        "# Placeholder notebook",
        "# Build funnel, cohorts, and churn analyses step-by-step here"
      ]
    }
  ],
  "metadata": {
    "kernelspec": {
      "display_name": "Python 3",
      "language": "python",
      "name": "python3"
    }
  },
  "nbformat": 4,
  "nbformat_minor": 5
}